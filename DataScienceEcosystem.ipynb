{
 "cells": [
  {
   "cell_type": "markdown",
   "id": "243e44a6-57e5-4968-b2cd-3de4a9e27474",
   "metadata": {},
   "source": [
    "# Data Science Tools and Ecosystem"
   ]
  },
  {
   "cell_type": "markdown",
   "id": "1d594a88-4e5b-490f-85be-ff720a4f230d",
   "metadata": {},
   "source": [
    "In this notebook, Data Science Tools and Ecosystem are summarized."
   ]
  },
  {
   "cell_type": "markdown",
   "id": "aafa35e8-739d-463e-82d5-1bd428ce819e",
   "metadata": {},
   "source": [
    "### Some of the popular languages that Data Scientists use are\n",
    "- Python\n",
    "- R\n",
    "- SQL\n",
    "- Julia\n",
    "- Scala\n",
    "- Java\n",
    "- MATLAB\n",
    "- JavaScript\n",
    "- C/C++"
   ]
  },
  {
   "cell_type": "markdown",
   "id": "ae44e0f4-3d12-4d2e-9578-8945396bbedf",
   "metadata": {},
   "source": [
    "### Some of the commonly used libraries used by Data Scientists in Python include\n",
    "- NumPy\n",
    "- Keras\n",
    "- Pandas\n",
    "- PyTorch\n",
    "- SciPy\n",
    "- Scikit-Learn\n",
    "- TensorFlow\n",
    "- Matplotlib\n",
    "- Seaborn\n",
    "- Theano\n"
   ]
  },
  {
   "cell_type": "markdown",
   "id": "010b499c-d65f-46a0-99db-d31f51e6ac99",
   "metadata": {},
   "source": [
    "### Data Science Tools\n",
    "| Term |\n",
    "| - |\n",
    "Apache MLib\n",
    "Apache Spark\n",
    "API\n",
    "Caffe\n",
    "CDLA\n",
    "Classification models\n",
    "Deep learining\n",
    "and many more...\n"
   ]
  },
  {
   "cell_type": "markdown",
   "id": "26467e9b-4a01-44fe-a443-c3c941988dfb",
   "metadata": {},
   "source": [
    "### Below are a few examples of evaluating arithmetic expressions in Python"
   ]
  },
  {
   "cell_type": "code",
   "execution_count": 1,
   "id": "9f7dcdda-f459-43be-851d-593be2d0d9e7",
   "metadata": {},
   "outputs": [
    {
     "name": "stdout",
     "output_type": "stream",
     "text": [
      "op1 = 17 \n",
      "op2 = 3 \n",
      "op3 = 70 \n",
      "op4 = 1.4285714285714286 \n",
      "op5 = 10000000 \n",
      "op6 = 3\n"
     ]
    }
   ],
   "source": [
    "n1 = 10\n",
    "n2 = 7\n",
    "\n",
    "op1 = n1 + n2\n",
    "op2 = n1 - n2\n",
    "op3 = n1 * n2\n",
    "op4 = n1 / n2\n",
    "op5 = n1 ** n2\n",
    "op6 = n1 % n2\n",
    "\n",
    "print(\"op1 =\", op1, \"\\nop2 =\", op2, \"\\nop3 =\", op3, \"\\nop4 =\", op4, \"\\nop5 =\", op5, \"\\nop6 =\", op6)"
   ]
  },
  {
   "cell_type": "markdown",
   "id": "a881d230-fd92-498c-b694-0a734bad46aa",
   "metadata": {},
   "source": [
    "### Create a code cell to multiply and add numbers"
   ]
  },
  {
   "cell_type": "code",
   "execution_count": 2,
   "id": "bf7afab7-f597-4d32-9434-e6db250ef076",
   "metadata": {},
   "outputs": [
    {
     "data": {
      "text/plain": [
       "17"
      ]
     },
     "execution_count": 2,
     "metadata": {},
     "output_type": "execute_result"
    }
   ],
   "source": [
    "# this a simple arithmetic expression to mutiply then add integers.\n",
    "(3 * 4) + 5"
   ]
  },
  {
   "cell_type": "markdown",
   "id": "a0daa094-e0fd-4417-b6f0-2dfe4a634ac0",
   "metadata": {},
   "source": [
    "### Create a code cell to convert minutes to hours"
   ]
  },
  {
   "cell_type": "code",
   "execution_count": 3,
   "id": "1007c189-3cc3-48a0-a5d2-574f39d8a01d",
   "metadata": {},
   "outputs": [
    {
     "name": "stdout",
     "output_type": "stream",
     "text": [
      "Hours = 3 , Minutes = 20\n"
     ]
    }
   ],
   "source": [
    "timeInMin = 200\n",
    "\n",
    "h = 200 // 60\n",
    "m = 200 % 60\n",
    "\n",
    "print(\"Hours =\", h, \", Minutes =\", m)"
   ]
  },
  {
   "cell_type": "markdown",
   "id": "fd7d0d3f-c66e-410d-b35a-a07e21bcefce",
   "metadata": {},
   "source": [
    "###  Insert a markdown cell to list Objectives\n",
    "\n",
    "**Objectives:**\n",
    "- Python\n",
    "- R\n",
    "- Git/GitHub\n",
    "- Jupyter lab/nootbook\n",
    "- Apache\n",
    "- IBM Watson"
   ]
  },
  {
   "cell_type": "markdown",
   "id": "d09de1f9-754b-4cdd-8fba-80264627f207",
   "metadata": {},
   "source": [
    "## Author\n",
    "Mahmued Alardawi"
   ]
  }
 ],
 "metadata": {
  "kernelspec": {
   "display_name": "Python 3 (ipykernel)",
   "language": "python",
   "name": "python3"
  },
  "language_info": {
   "codemirror_mode": {
    "name": "ipython",
    "version": 3
   },
   "file_extension": ".py",
   "mimetype": "text/x-python",
   "name": "python",
   "nbconvert_exporter": "python",
   "pygments_lexer": "ipython3",
   "version": "3.12.0"
  }
 },
 "nbformat": 4,
 "nbformat_minor": 5
}
